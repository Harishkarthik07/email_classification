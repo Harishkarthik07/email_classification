{
 "cells": [
  {
   "cell_type": "markdown",
   "metadata": {},
   "source": [
    "# Import Necessary Libraries\n"
   ]
  },
  {
   "cell_type": "code",
   "execution_count": 2,
   "metadata": {},
   "outputs": [],
   "source": [
    "import pandas as pd\n",
    "from sklearn.model_selection import train_test_split\n",
    "from sklearn.ensemble import RandomForestClassifier\n",
    "from sklearn.metrics import accuracy_score, classification_report\n"
   ]
  },
  {
   "cell_type": "markdown",
   "metadata": {},
   "source": [
    "# Loading  data"
   ]
  },
  {
   "cell_type": "code",
   "execution_count": 3,
   "metadata": {},
   "outputs": [],
   "source": [
    "email = pd.read_csv(\"data/email_table.csv\")\n",
    "opened = pd.read_csv(\"data/email_opened_table.csv\")\n",
    "clicked = pd.read_csv(\"data/link_clicked_table.csv\")\n"
   ]
  },
  {
   "cell_type": "markdown",
   "metadata": {},
   "source": [
    "# Open and Click Rates"
   ]
  },
  {
   "cell_type": "code",
   "execution_count": 4,
   "metadata": {},
   "outputs": [
    {
     "name": "stdout",
     "output_type": "stream",
     "text": [
      " Open Rate: 10.35%\n",
      " Click Rate: 2.12%\n"
     ]
    }
   ],
   "source": [
    "total_emails = len(email)\n",
    "open_rate = len(opened) / total_emails * 100\n",
    "click_rate = len(clicked) / total_emails * 100\n",
    "print(f\" Open Rate: {open_rate:.2f}%\")\n",
    "print(f\" Click Rate: {click_rate:.2f}%\")"
   ]
  },
  {
   "cell_type": "markdown",
   "metadata": {},
   "source": [
    "# Label emails as opened or clicked"
   ]
  },
  {
   "cell_type": "code",
   "execution_count": 5,
   "metadata": {},
   "outputs": [],
   "source": [
    "email[\"opened\"] = email[\"email_id\"].isin(opened[\"email_id\"]).astype(int)\n",
    "email[\"clicked\"] = email[\"email_id\"].isin(clicked[\"email_id\"]).astype(int)"
   ]
  },
  {
   "cell_type": "markdown",
   "metadata": {},
   "source": [
    "# One-hot encode categorical features"
   ]
  },
  {
   "cell_type": "code",
   "execution_count": 6,
   "metadata": {},
   "outputs": [],
   "source": [
    "df = pd.get_dummies(email, columns=[\"email_text\", \"email_version\", \"weekday\", \"user_country\"])\n"
   ]
  },
  {
   "cell_type": "markdown",
   "metadata": {},
   "source": [
    "# Train-test split"
   ]
  },
  {
   "cell_type": "code",
   "execution_count": 7,
   "metadata": {},
   "outputs": [],
   "source": [
    "X = df.drop(columns=[\"email_id\", \"clicked\"])\n",
    "y = df[\"clicked\"]\n",
    "X_train, X_test, y_train, y_test = train_test_split(X, y, random_state=42)"
   ]
  },
  {
   "cell_type": "markdown",
   "metadata": {},
   "source": [
    "# Train model"
   ]
  },
  {
   "cell_type": "code",
   "execution_count": 8,
   "metadata": {},
   "outputs": [],
   "source": [
    "model = RandomForestClassifier(random_state=42)\n",
    "model.fit(X_train, y_train)\n",
    "y_pred = model.predict(X_test)\n"
   ]
  },
  {
   "cell_type": "code",
   "execution_count": 9,
   "metadata": {},
   "outputs": [
    {
     "name": "stdout",
     "output_type": "stream",
     "text": [
      "\n",
      "📊 Model Evaluation:\n",
      "Accuracy: 0.97156\n",
      "              precision    recall  f1-score   support\n",
      "\n",
      "           0       0.98      0.99      0.99     24443\n",
      "           1       0.28      0.17      0.21       557\n",
      "\n",
      "    accuracy                           0.97     25000\n",
      "   macro avg       0.63      0.58      0.60     25000\n",
      "weighted avg       0.97      0.97      0.97     25000\n",
      "\n"
     ]
    }
   ],
   "source": [
    "print(\"\\n📊 Model Evaluation:\")\n",
    "print(\"Accuracy:\", accuracy_score(y_test, y_pred))\n",
    "print(classification_report(y_test, y_pred))\n"
   ]
  },
  {
   "cell_type": "code",
   "execution_count": 12,
   "metadata": {},
   "outputs": [
    {
     "name": "stdout",
     "output_type": "stream",
     "text": [
      "\n",
      " Click Rates by Email Text Type:\n",
      "email_text\n",
      "long_email     0.018538\n",
      "short_email    0.023872\n",
      "Name: clicked, dtype: float64\n",
      "\n",
      " Click Rates by Country:\n",
      "user_country\n",
      "UK    0.024675\n",
      "US    0.024360\n",
      "ES    0.008327\n",
      "FR    0.008004\n",
      "Name: clicked, dtype: float64\n"
     ]
    }
   ],
   "source": [
    "print(\"\\n Click Rates by Email Text Type:\")\n",
    "print(email.groupby(\"email_text\")[\"clicked\"].mean())\n",
    "\n",
    "print(\"\\n Click Rates by Country:\")\n",
    "print(email.groupby(\"user_country\")[\"clicked\"].mean().sort_values(ascending=False))"
   ]
  },
  {
   "cell_type": "code",
   "execution_count": null,
   "metadata": {},
   "outputs": [],
   "source": []
  }
 ],
 "metadata": {
  "kernelspec": {
   "display_name": "Python 3",
   "language": "python",
   "name": "python3"
  },
  "language_info": {
   "codemirror_mode": {
    "name": "ipython",
    "version": 3
   },
   "file_extension": ".py",
   "mimetype": "text/x-python",
   "name": "python",
   "nbconvert_exporter": "python",
   "pygments_lexer": "ipython3",
   "version": "3.13.1"
  }
 },
 "nbformat": 4,
 "nbformat_minor": 2
}
